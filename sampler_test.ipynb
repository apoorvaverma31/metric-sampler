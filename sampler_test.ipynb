{
 "cells": [
  {
   "cell_type": "code",
   "execution_count": 1,
   "metadata": {},
   "outputs": [
    {
     "name": "stdout",
     "output_type": "stream",
     "text": [
      "torch.cuda.is_available(): True\n"
     ]
    }
   ],
   "source": [
    "import torch\n",
    "print('torch.cuda.is_available(): {}'.format(torch.cuda.is_available()))\n",
    "import numpy as np\n",
    "from utils import make_imb_data, get_cifar10_test, plot_distribution\n",
    "from models.wrn import WRN\n",
    "from collections import Counter\n",
    "import matplotlib.pyplot as plt"
   ]
  },
  {
   "cell_type": "code",
   "execution_count": 2,
   "metadata": {},
   "outputs": [
    {
     "name": "stdout",
     "output_type": "stream",
     "text": [
      "max_num=1250\n",
      "[1250, 749, 449, 269, 161, 96, 58, 34, 20, 12]\n",
      "max_num=3750\n",
      "[3750, 2248, 1347, 807, 484, 290, 174, 104, 62, 37]\n",
      "Files already downloaded and verified\n",
      "#Labeled: 3098 #Unlabeled: 12401\n"
     ]
    }
   ],
   "source": [
    "N_SAMPLES_PER_CLASS = make_imb_data(1250, 10, 100 ,False, False)\n",
    "U_SAMPLES_PER_CLASS = make_imb_data(3 * 1250, 10, 100, False, False)\n",
    "N_SAMPLES_PER_CLASS_T = torch.Tensor(N_SAMPLES_PER_CLASS)\n",
    "\n",
    "train_labeled_set, train_unlabeled_set, test_set = get_cifar10_test('/home/apoorva/Datasets', N_SAMPLES_PER_CLASS\n",
    ", U_SAMPLES_PER_CLASS)"
   ]
  },
  {
   "cell_type": "code",
   "execution_count": 3,
   "metadata": {},
   "outputs": [
    {
     "name": "stdout",
     "output_type": "stream",
     "text": [
      "tensor([[0., 0., 0., 0., 0., 0., 0., 0., 0., 0.],\n",
      "        [0., 0., 0., 0., 0., 0., 0., 0., 0., 0.],\n",
      "        [0., 0., 0., 0., 0., 0., 0., 0., 0., 0.],\n",
      "        [0., 0., 0., 0., 0., 0., 0., 0., 0., 0.],\n",
      "        [0., 0., 0., 0., 0., 0., 0., 0., 0., 0.],\n",
      "        [0., 0., 0., 0., 0., 0., 0., 0., 0., 0.],\n",
      "        [0., 0., 0., 0., 0., 0., 0., 0., 0., 0.],\n",
      "        [0., 0., 0., 0., 0., 0., 0., 0., 0., 0.],\n",
      "        [0., 0., 0., 0., 0., 0., 0., 0., 0., 0.],\n",
      "        [0., 0., 0., 0., 0., 0., 0., 0., 0., 0.]])\n"
     ]
    }
   ],
   "source": [
    "def create_model(ema=False):\n",
    "    model = WRN(2, len(N_SAMPLES_PER_CLASS))\n",
    "    model = model.cuda()\n",
    "\n",
    "    if ema:\n",
    "        for param in model.parameters():\n",
    "            param.detach_()\n",
    "\n",
    "    return model\n",
    "\n",
    "model = create_model()\n",
    "ema_model = create_model(ema=True))"
   ]
  },
  {
   "cell_type": "code",
   "execution_count": 7,
   "metadata": {},
   "outputs": [
    {
     "name": "stdout",
     "output_type": "stream",
     "text": [
      "[ 161.   34. 1250.    0.   58.  761.  449.   20.  269.   96.]\n"
     ]
    },
    {
     "data": {
      "image/png": "[encoded data removed]",
      "text/plain": [
       "<Figure size 432x288 with 1 Axes>"
      ]
     },
     "metadata": {
      "needs_background": "light"
     },
     "output_type": "display_data"
    }
   ],
   "source": [
    "from sampler import UnlabeledDataLoader_test\n",
    "\n",
    "list_dist = np.zeros(10)\n",
    "# target_dist = torch.ones([10, 10])\n",
    "# target_dist = torch.diag(torch.ones(10))\n",
    "# target_dist = torch.ones([10, 10]) - torch.diag(torch.ones(10))\n",
    "target_dist = torch.tensor([\n",
    "        [0., 0., 1., 0., 0., 0., 0., 0., 0., 0.],\n",
    "        [0., 0., 0., 0., 0., 1., 0., 0., 0., 0.],\n",
    "        [0., 0., 0., 0., 0., 0., 1., 0., 0., 0.],\n",
    "        [0., 0., 0., 0., 0., 0., 0., 0., 1., 0.],\n",
    "        [1., 0., 0., 0., 0., 0., 0., 0., 0., 0.],\n",
    "        [0., 0., 0., 0., 0., 0., 0., 0., 0., 1.],\n",
    "        [0., 0., 0., 0., 1., 0., 0., 0., 0., 0.],\n",
    "        [0., 1., 0., 0., 0., 0., 0., 0., 0., 0.],\n",
    "        [0., 0., 0., 0., 0., 0., 0., 1., 0., 0.],\n",
    "        [0., 0., 0., 0., 0., 1., 0., 0., 0., 0.]])\n",
    "\n",
    "labeled_loader = torch.utils.data.DataLoader(train_labeled_set, batch_size=128, num_workers=8, shuffle=True)\n",
    "for imgs, lbls, _ in labeled_loader:\n",
    "    ulb_loader = UnlabeledDataLoader_test(train_unlabeled_set, target_dist, N_SAMPLES_PER_CLASS, 128)\n",
    "    img_u, ulb_u = ulb_loader.get_batch(lbls)\n",
    "    ulb_u = ulb_u.numpy()\n",
    "    for i in ulb_u:\n",
    "        list_dist[i]+=1\n",
    "print(list_dist)\n",
    "plt.bar(np.arange(10), list_dist)\n",
    "plt.savefig('images/off_diagonal.png')"
   ]
  },
  {
   "cell_type": "code",
   "execution_count": null,
   "metadata": {},
   "outputs": [],
   "source": []
  }
 ],
 "metadata": {
  "kernelspec": {
   "display_name": "Python 3.9.12 ('base')",
   "language": "python",
   "name": "python3"
  },
  "language_info": {
   "codemirror_mode": {
    "name": "ipython",
    "version": 3
   },
   "file_extension": ".py",
   "mimetype": "text/x-python",
   "name": "python",
   "nbconvert_exporter": "python",
   "pygments_lexer": "ipython3",
   "version": "3.9.12"
  },
  "orig_nbformat": 4,
  "vscode": {
   "interpreter": {
    "hash": "b8dd4fa52c2be142a1b05e1fd214df78dd67bbee7dce6644d036e63483141898"
   }
  }
 },
 "nbformat": 4,
 "nbformat_minor": 2
}
