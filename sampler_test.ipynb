{
 "cells": [
  {
   "cell_type": "code",
   "execution_count": null,
   "metadata": {},
   "outputs": [],
   "source": [
    "import torch\n",
    "print('torch.cuda.is_available(): {}'.format(torch.cuda.is_available()))\n",
    "import numpy as np\n",
    "from utils import make_imb_data, get_cifar10, plot_distribution\n",
    "from models.wrn import WRN\n",
    "from collections import Counter\n",
    "import matplotlib.pyplot as plt\n",
    "import time"
   ]
  },
  {
   "cell_type": "code",
   "execution_count": null,
   "metadata": {},
   "outputs": [],
   "source": [
    "N_SAMPLES_PER_CLASS = make_imb_data(1250, 10, 100 ,False, False)\n",
    "U_SAMPLES_PER_CLASS = make_imb_data(3 * 1250, 10, 100, False, False)\n",
    "N_SAMPLES_PER_CLASS_T = torch.Tensor(N_SAMPLES_PER_CLASS)\n",
    "\n",
    "train_labeled_set, train_unlabeled_set, test_set = get_cifar10('/home/apoorva/Datasets', N_SAMPLES_PER_CLASS\n",
    ", U_SAMPLES_PER_CLASS)"
   ]
  },
  {
   "cell_type": "code",
   "execution_count": null,
   "metadata": {},
   "outputs": [],
   "source": [
    "def create_model(ema=False):\n",
    "    model = WRN(2, len(N_SAMPLES_PER_CLASS))\n",
    "    model = model.cuda()\n",
    "\n",
    "    if ema:\n",
    "        for param in model.parameters():\n",
    "            param.detach_()\n",
    "\n",
    "    return model\n",
    "\n",
    "model = create_model()\n",
    "ema_model = create_model(ema=True)\n"
   ]
  },
  {
   "cell_type": "code",
   "execution_count": null,
   "metadata": {},
   "outputs": [],
   "source": [
    "from sampler import UnlabeledDataLoader\n",
    "target_dist = torch.ones([10, 10])\n",
    "labeled_loader = torch.utils.data.DataLoader(train_labeled_set, batch_size=128, num_workers=8, shuffle=True)\n",
    "for imgs, lbls, _ in labeled_loader:\n",
    "    ulb_loader = UnlabeledDataLoader(train_unlabeled_set, model, target_dist, N_SAMPLES_PER_CLASS, 128)\n",
    "    img_u, ulb_u = ulb_loader.get_batch(lbls)"
   ]
  }
 ],
 "metadata": {
  "kernelspec": {
   "display_name": "Python 3.9.12 ('base')",
   "language": "python",
   "name": "python3"
  },
  "language_info": {
   "codemirror_mode": {
    "name": "ipython",
    "version": 3
   },
   "file_extension": ".py",
   "mimetype": "text/x-python",
   "name": "python",
   "nbconvert_exporter": "python",
   "pygments_lexer": "ipython3",
   "version": "3.9.12"
  },
  "orig_nbformat": 4,
  "vscode": {
   "interpreter": {
    "hash": "b8dd4fa52c2be142a1b05e1fd214df78dd67bbee7dce6644d036e63483141898"
   }
  }
 },
 "nbformat": 4,
 "nbformat_minor": 2
}
